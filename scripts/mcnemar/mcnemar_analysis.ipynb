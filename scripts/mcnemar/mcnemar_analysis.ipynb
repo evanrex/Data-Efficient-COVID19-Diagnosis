{
 "cells": [
  {
   "cell_type": "code",
   "execution_count": 35,
   "metadata": {},
   "outputs": [],
   "source": [
    "import numpy as np\n",
    "from statsmodels.stats.contingency_tables import mcnemar"
   ]
  },
  {
   "cell_type": "code",
   "execution_count": 87,
   "metadata": {},
   "outputs": [],
   "source": [
    "result1 = np.array([\n",
    "        [[19913.,   604.],\n",
    "        [ 4008.,  1362.]],\n",
    "\n",
    "        [[  570.,   298.],\n",
    "        [ 1347.,  5679.]]\n",
    "        ])\n",
    "\n",
    "result2 = np.array([\n",
    "        [[19614.,   903.],\n",
    "        [ 3382.,  1988.]],\n",
    "\n",
    "        [[  593.,   275.],\n",
    "        [ 1295.,  5731.]]\n",
    "        ])\n",
    "\n",
    "result3 = np.array([\n",
    "        [[19913.,   604.],\n",
    "        [ 4008.,  1362.]],\n",
    "\n",
    "        [[  570.,   298.],\n",
    "        [ 1347.,  5679.]]\n",
    "        ])"
   ]
  },
  {
   "cell_type": "code",
   "execution_count": 88,
   "metadata": {},
   "outputs": [],
   "source": [
    "def dict_sensitivity(dicti):\n",
    "    dicti[\"sensitivity\"] = dicti[\"TP\"]/(dicti[\"TP\"]+dicti[\"FN\"])\n",
    "    return dicti\n",
    "\n",
    "def dict_specificity(dicti):\n",
    "    dicti[\"specificity\"] = dicti[\"TN\"]/(dicti[\"TN\"]+dicti[\"FP\"])\n",
    "    return dicti\n",
    "\n",
    "def dict_accuracy(dicti):\n",
    "    dicti[\"accuracy\"] = (dicti[\"TP\"] + dicti[\"TN\"])/(dicti[\"TP\"]+dicti[\"TN\"]+dicti[\"FP\"]+dicti[\"FN\"])\n",
    "    return dicti\n",
    "    \n",
    "def hypothesis_test(result):\n",
    "    negatives = result[0].copy()\n",
    "    positives = result[1].copy()\n",
    "    \n",
    "    dino = {}\n",
    "    dino[\"TN\"] = sum(negatives[:,0])\n",
    "    dino[\"FP\"] = sum(negatives[:,1])\n",
    "    dino[\"FN\"] = sum(positives[:,0])\n",
    "    dino['TP'] = sum(positives[:,1])\n",
    "\n",
    "    baseline = {}\n",
    "    baseline[\"TN\"] = sum(negatives[0,:])\n",
    "    baseline[\"FP\"] = sum(negatives[1,:])\n",
    "    baseline[\"FN\"] = sum(positives[0,:])\n",
    "    baseline['TP'] = sum(positives[1,:])\n",
    "\n",
    "    dino = dict_sensitivity(dino)\n",
    "    dino = dict_specificity(dino)\n",
    "    dino = dict_accuracy(dino)\n",
    "\n",
    "    baseline = dict_sensitivity(baseline)\n",
    "    baseline = dict_specificity(baseline)\n",
    "    baseline = dict_accuracy(baseline)\n",
    "\n",
    "    print(\"Dino:    Specificity        | Sensitivity        |  Accuracy\")\n",
    "    print(\"         \"+str(dino[\"specificity\"])+ \" | \" + str(dino[\"sensitivity\"])+ \" | \" + str(dino[\"accuracy\"]))\n",
    "    print()\n",
    "    print(\"Baseline:    Specificity   | Sensitivity        |  Accuracy\")\n",
    "    print(\"         \"+str(baseline[\"specificity\"])+ \" | \" + str(baseline[\"sensitivity\"])+ \" | \" + str(baseline[\"accuracy\"]))\n",
    "    print()\n",
    "    mcnmr_neg_result = mcnemar(\n",
    "            negatives, \n",
    "            exact=False, correction=True)\n",
    "    print(\"McNemar Result (Specificity)\")\n",
    "    print(mcnmr_neg_result)\n",
    "    print()\n",
    "    mcnmr_pos_result = mcnemar(\n",
    "            positives, \n",
    "            exact=False, correction=True)\n",
    "    print(\"McNemar Result (Sensitivity)\")\n",
    "    print(mcnmr_pos_result)\n",
    "    alln = negatives.copy()\n",
    "    # alln[[0, 1],:] = alln[[1, 0],:]\n",
    "    alln[:,[0, 1]] = alln[:,[1, 0]]\n",
    "    all_ = positives.copy() + alln\n",
    "    print()\n",
    "    mcnmr_acc_result = mcnemar(\n",
    "            all_, \n",
    "            exact=False, correction=True)\n",
    "    print(\"McNemar Result (Accuracy)\")\n",
    "    print(mcnmr_acc_result)\n",
    "    \n",
    "    \n",
    "    "
   ]
  },
  {
   "cell_type": "code",
   "execution_count": 89,
   "metadata": {},
   "outputs": [
    {
     "name": "stdout",
     "output_type": "stream",
     "text": [
      "Dino:    Specificity        | Sensitivity        |  Accuracy\n",
      "         0.9240545447521922 | 0.7571573346845706 | 0.8850537284272224\n",
      "\n",
      "Baseline:    Specificity   | Sensitivity        |  Accuracy\n",
      "         0.792559972186812 | 0.8900430706865974 | 0.8153399840146828\n",
      "\n",
      "McNemar Result (Specificity)\n",
      "pvalue      0.0\n",
      "statistic   2510.9299653078924\n",
      "\n",
      "McNemar Result (Sensitivity)\n",
      "pvalue      3.221448322733939e-147\n",
      "statistic   667.6620060790274\n",
      "\n",
      "McNemar Result (Accuracy)\n",
      "pvalue      0.0\n",
      "statistic   13363.219938917975\n"
     ]
    }
   ],
   "source": [
    "hypothesis_test(result1)"
   ]
  },
  {
   "cell_type": "code",
   "execution_count": 90,
   "metadata": {},
   "outputs": [
    {
     "name": "stdout",
     "output_type": "stream",
     "text": [
      "Dino:    Specificity        | Sensitivity        |  Accuracy\n",
      "         0.8883223239463823 | 0.7608310108943501 | 0.8585299428672922\n",
      "\n",
      "Baseline:    Specificity   | Sensitivity        |  Accuracy\n",
      "         0.792559972186812 | 0.8900430706865974 | 0.8153399840146828\n",
      "\n",
      "McNemar Result (Specificity)\n",
      "pvalue      0.0\n",
      "statistic   1433.0184364060676\n",
      "\n",
      "McNemar Result (Sensitivity)\n",
      "pvalue      7.498835597772613e-146\n",
      "statistic   661.3764331210191\n",
      "\n",
      "McNemar Result (Accuracy)\n",
      "pvalue      0.0\n",
      "statistic   11899.103443811497\n"
     ]
    }
   ],
   "source": [
    "hypothesis_test(result2)"
   ]
  },
  {
   "cell_type": "code",
   "execution_count": 91,
   "metadata": {},
   "outputs": [
    {
     "name": "stdout",
     "output_type": "stream",
     "text": [
      "Dino:    Specificity        | Sensitivity        |  Accuracy\n",
      "         0.9240545447521922 | 0.7571573346845706 | 0.8850537284272224\n",
      "\n",
      "Baseline:    Specificity   | Sensitivity        |  Accuracy\n",
      "         0.792559972186812 | 0.8900430706865974 | 0.8153399840146828\n",
      "\n",
      "McNemar Result (Specificity)\n",
      "pvalue      0.0\n",
      "statistic   2510.9299653078924\n",
      "\n",
      "McNemar Result (Sensitivity)\n",
      "pvalue      3.221448322733939e-147\n",
      "statistic   667.6620060790274\n",
      "\n",
      "McNemar Result (Accuracy)\n",
      "pvalue      0.0\n",
      "statistic   13363.219938917975\n"
     ]
    }
   ],
   "source": [
    "hypothesis_test(result3)"
   ]
  },
  {
   "cell_type": "code",
   "execution_count": null,
   "metadata": {},
   "outputs": [],
   "source": []
  }
 ],
 "metadata": {
  "kernelspec": {
   "display_name": "Python 3.8.10 64-bit (microsoft store)",
   "language": "python",
   "name": "python3"
  },
  "language_info": {
   "codemirror_mode": {
    "name": "ipython",
    "version": 3
   },
   "file_extension": ".py",
   "mimetype": "text/x-python",
   "name": "python",
   "nbconvert_exporter": "python",
   "pygments_lexer": "ipython3",
   "version": "3.8.10"
  },
  "orig_nbformat": 4,
  "vscode": {
   "interpreter": {
    "hash": "a32096a0b47df019fde676d464d3da2d3b41ad3fe7bd49c115f207de5be89a41"
   }
  }
 },
 "nbformat": 4,
 "nbformat_minor": 2
}
